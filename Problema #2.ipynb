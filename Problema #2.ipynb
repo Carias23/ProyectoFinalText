{
 "cells": [
  {
   "cell_type": "markdown",
   "id": "325b60b4",
   "metadata": {},
   "source": [
    "Carga y Procesamiento de Datos"
   ]
  },
  {
   "cell_type": "code",
   "execution_count": 1,
   "id": "763f5a1d",
   "metadata": {},
   "outputs": [],
   "source": [
    "import pandas as pd\n",
    "import numpy as np\n",
    "import tensorflow as tf\n",
    "from sklearn.model_selection import train_test_split\n",
    "from tensorflow.keras import layers, models\n",
    "from tensorflow.keras.utils import to_categorical\n",
    "import matplotlib.pyplot as plt\n",
    "import seaborn as sns\n",
    "\n",
    "from sklearn.metrics import confusion_matrix\n",
    "import itertools\n",
    "\n",
    "from keras.models import Sequential\n",
    "from keras.layers import Dense,Conv2D,MaxPooling2D,Flatten,Dropout\n",
    "from keras.preprocessing.image import ImageDataGenerator\n",
    "from keras.optimizers import Adam\n",
    "\n",
    "\n",
    "# Paso 1: Carga y preprocesamiento de datos\n",
    "train_data = pd.read_csv('mnist_train.csv')\n",
    "test_data = pd.read_csv('mnist_test.csv')\n",
    "\n",
    "# Separa las etiquetas de los datos\n",
    "X_train = train_data.drop(labels=[\"label\"], axis=1)\n",
    "Y_train = train_data[\"label\"]\n",
    "\n",
    "# Normaliza los valores de píxeles\n",
    "X_train = X_train / 255.0\n",
    "\n",
    "# Realiza un reshape para crear imágenes miniatura de 28x28\n",
    "X_train = X_train.values.reshape(-1, 28, 28, 1)"
   ]
  },
  {
   "cell_type": "markdown",
   "id": "36aa4958",
   "metadata": {},
   "source": [
    "DIVISION DE DATOS EN CONJUNTOS DE ENTRENAMIENTO Y PRUEBA"
   ]
  },
  {
   "cell_type": "code",
   "execution_count": 4,
   "id": "d30e591e",
   "metadata": {},
   "outputs": [],
   "source": [
    "# Paso 2: División de datos en conjuntos de entrenamiento y prueba\n",
    "X_train, X_val, y_train, y_val = train_test_split(X_train, Y_train, test_size=0.2, random_state=42)"
   ]
  },
  {
   "cell_type": "markdown",
   "id": "409b9189",
   "metadata": {},
   "source": [
    "CREACION Y ENTRENAMIENTO DE LA RED NEURONAL ARTIFICIAL ANN"
   ]
  },
  {
   "cell_type": "code",
   "execution_count": 5,
   "id": "29ad9b3d",
   "metadata": {},
   "outputs": [
    {
     "name": "stdout",
     "output_type": "stream",
     "text": [
      "Epoch 1/10\n",
      "1500/1500 [==============================] - 22s 11ms/step - loss: 0.2677 - accuracy: 0.9214 - val_loss: 0.1492 - val_accuracy: 0.9554\n",
      "Epoch 2/10\n",
      "1500/1500 [==============================] - 16s 11ms/step - loss: 0.1145 - accuracy: 0.9661 - val_loss: 0.1023 - val_accuracy: 0.9696\n",
      "Epoch 3/10\n",
      "1500/1500 [==============================] - 17s 11ms/step - loss: 0.0769 - accuracy: 0.9760 - val_loss: 0.0915 - val_accuracy: 0.9710\n",
      "Epoch 4/10\n",
      "1500/1500 [==============================] - 17s 12ms/step - loss: 0.0592 - accuracy: 0.9812 - val_loss: 0.0899 - val_accuracy: 0.9745\n",
      "Epoch 5/10\n",
      "1500/1500 [==============================] - 19s 13ms/step - loss: 0.0469 - accuracy: 0.9851 - val_loss: 0.0785 - val_accuracy: 0.9786\n",
      "Epoch 6/10\n",
      "1500/1500 [==============================] - 20s 13ms/step - loss: 0.0386 - accuracy: 0.9872 - val_loss: 0.1012 - val_accuracy: 0.9694\n",
      "Epoch 7/10\n",
      "1500/1500 [==============================] - 20s 13ms/step - loss: 0.0294 - accuracy: 0.9908 - val_loss: 0.0899 - val_accuracy: 0.9756\n",
      "Epoch 8/10\n",
      "1500/1500 [==============================] - 20s 13ms/step - loss: 0.0256 - accuracy: 0.9917 - val_loss: 0.1103 - val_accuracy: 0.9724\n",
      "Epoch 9/10\n",
      "1500/1500 [==============================] - 17s 11ms/step - loss: 0.0217 - accuracy: 0.9926 - val_loss: 0.1083 - val_accuracy: 0.9737\n",
      "Epoch 10/10\n",
      "1500/1500 [==============================] - 19s 13ms/step - loss: 0.0210 - accuracy: 0.9930 - val_loss: 0.1102 - val_accuracy: 0.9752\n"
     ]
    },
    {
     "data": {
      "text/plain": [
       "<keras.src.callbacks.History at 0x2c195e94b50>"
      ]
     },
     "execution_count": 5,
     "metadata": {},
     "output_type": "execute_result"
    }
   ],
   "source": [
    "# Paso 3: Creación y entrenamiento de la Red Neuronal Artificial (ANN)\n",
    "# Creación del modelo ANN\n",
    "ann_model = models.Sequential([\n",
    "    layers.Flatten(input_shape=(28, 28, 1)),\n",
    "    layers.Dense(128, activation='relu'),\n",
    "    layers.Dense(64, activation='relu'),\n",
    "    layers.Dense(10, activation='softmax')  # Capa de salida con 10 neuronas\n",
    "])\n",
    "ann_model = models.Sequential([\n",
    "    layers.Flatten(input_shape=(28, 28, 1)),\n",
    "    layers.Dense(128, activation='relu'),\n",
    "    layers.Dense(64, activation='relu'),\n",
    "    layers.Dense(10, activation='softmax')\n",
    "])\n",
    "\n",
    "ann_model.compile(optimizer='adam', loss='sparse_categorical_crossentropy', metrics=['accuracy'])\n",
    "ann_model.fit(X_train, y_train, epochs=10, validation_data=(X_val, y_val))\n"
   ]
  },
  {
   "cell_type": "markdown",
   "id": "e0eaa511",
   "metadata": {},
   "source": [
    "CREACION Y ENTRENAMIENTO DE LA RED NEURONAL CONVOLUCIONAL"
   ]
  },
  {
   "cell_type": "code",
   "execution_count": 6,
   "id": "5e1d5329",
   "metadata": {},
   "outputs": [
    {
     "name": "stdout",
     "output_type": "stream",
     "text": [
      "Epoch 1/10\n",
      "1500/1500 [==============================] - 129s 83ms/step - loss: 0.1658 - accuracy: 0.9500 - val_loss: 0.0666 - val_accuracy: 0.9795\n",
      "Epoch 2/10\n",
      "1500/1500 [==============================] - 144s 96ms/step - loss: 0.0530 - accuracy: 0.9839 - val_loss: 0.0521 - val_accuracy: 0.9843\n",
      "Epoch 3/10\n",
      "1500/1500 [==============================] - 163s 109ms/step - loss: 0.0352 - accuracy: 0.9889 - val_loss: 0.0371 - val_accuracy: 0.9884\n",
      "Epoch 4/10\n",
      "1500/1500 [==============================] - 134s 89ms/step - loss: 0.0264 - accuracy: 0.9913 - val_loss: 0.0351 - val_accuracy: 0.9888\n",
      "Epoch 5/10\n",
      "1500/1500 [==============================] - 128s 85ms/step - loss: 0.0190 - accuracy: 0.9942 - val_loss: 0.0363 - val_accuracy: 0.9891\n",
      "Epoch 6/10\n",
      "1500/1500 [==============================] - 122s 81ms/step - loss: 0.0156 - accuracy: 0.9948 - val_loss: 0.0517 - val_accuracy: 0.9866\n",
      "Epoch 7/10\n",
      "1500/1500 [==============================] - 102s 68ms/step - loss: 0.0125 - accuracy: 0.9958 - val_loss: 0.0382 - val_accuracy: 0.9898\n",
      "Epoch 8/10\n",
      "1500/1500 [==============================] - 98s 65ms/step - loss: 0.0113 - accuracy: 0.9961 - val_loss: 0.0368 - val_accuracy: 0.9898\n",
      "Epoch 9/10\n",
      "1500/1500 [==============================] - 95s 64ms/step - loss: 0.0085 - accuracy: 0.9973 - val_loss: 0.0532 - val_accuracy: 0.9874\n",
      "Epoch 10/10\n",
      "1500/1500 [==============================] - 94s 63ms/step - loss: 0.0075 - accuracy: 0.9974 - val_loss: 0.0404 - val_accuracy: 0.9898\n"
     ]
    },
    {
     "data": {
      "text/plain": [
       "<keras.src.callbacks.History at 0x2c195f59a90>"
      ]
     },
     "execution_count": 6,
     "metadata": {},
     "output_type": "execute_result"
    }
   ],
   "source": [
    "# Paso 4: Creación y entrenamiento de la Red Neuronal Convolucional (CNN)\n",
    "cnn_model = models.Sequential([\n",
    "    layers.Conv2D(32, (3, 3), activation='relu', input_shape=(28, 28, 1)),\n",
    "    layers.MaxPooling2D((2, 2)),\n",
    "    layers.Conv2D(64, (3, 3), activation='relu'),\n",
    "    layers.MaxPooling2D((2, 2)),\n",
    "    layers.Flatten(),\n",
    "    layers.Dense(64, activation='relu'),\n",
    "    layers.Dense(10, activation='softmax')\n",
    "])\n",
    "\n",
    "cnn_model.compile(optimizer='adam', loss='sparse_categorical_crossentropy', metrics=['accuracy'])\n",
    "cnn_model.fit(X_train, y_train, epochs=10, validation_data=(X_val, y_val))"
   ]
  },
  {
   "cell_type": "markdown",
   "id": "ec6d0105",
   "metadata": {},
   "source": [
    "EVALUACION DE RENDIMIENTO EN EL CONJUNTO DE PRUEBA"
   ]
  },
  {
   "cell_type": "code",
   "execution_count": 7,
   "id": "19e869f6",
   "metadata": {},
   "outputs": [],
   "source": [
    "# Paso 5: Evaluación de rendimiento en el conjunto de prueba\n",
    "test_labels = test_data['label'].values\n",
    "test_pixels = test_data.drop('label', axis=1).values\n",
    "test_pixels = test_pixels / 255.0\n",
    "test_pixels = test_pixels.reshape(-1, 28, 28, 1)\n"
   ]
  },
  {
   "cell_type": "markdown",
   "id": "12e05a6a",
   "metadata": {},
   "source": [
    "EVALUAAR LA ANN EN EL CONJUNTO DE PRUEBA ANN"
   ]
  },
  {
   "cell_type": "code",
   "execution_count": 8,
   "id": "ab9e576a",
   "metadata": {},
   "outputs": [
    {
     "name": "stdout",
     "output_type": "stream",
     "text": [
      "313/313 [==============================] - 2s 4ms/step\n",
      "ANN - Accuracy: 0.9766\n"
     ]
    }
   ],
   "source": [
    "# Evaluar la ANN en el conjunto de prueba\n",
    "ann_predictions = ann_model.predict(test_pixels)\n",
    "ann_predicted_labels = np.argmax(ann_predictions, axis=1)\n",
    "\n",
    "correct_predictions = np.sum(ann_predicted_labels == test_labels)\n",
    "total_predictions = len(test_labels)\n",
    "\n",
    "ann_accuracy = correct_predictions / total_predictions\n",
    "print(f'ANN - Accuracy: {ann_accuracy}')\n"
   ]
  },
  {
   "cell_type": "markdown",
   "id": "d0ab78d6",
   "metadata": {},
   "source": [
    "EVALUAR LA CNN EN EL CONJUNTO DE PRUEBA"
   ]
  },
  {
   "cell_type": "code",
   "execution_count": 10,
   "id": "a355f848",
   "metadata": {},
   "outputs": [
    {
     "name": "stdout",
     "output_type": "stream",
     "text": [
      "313/313 [==============================] - 8s 24ms/step\n",
      "CNN - Accuracy: 0.9904\n"
     ]
    }
   ],
   "source": [
    "# Evaluar la CNN en el conjunto de prueba\n",
    "cnn_predictions = cnn_model.predict(test_pixels)\n",
    "cnn_predicted_labels = np.argmax(cnn_predictions, axis=1)\n",
    "\n",
    "correct_predictions_cnn = np.sum(cnn_predicted_labels == test_labels)\n",
    "total_predictions_cnn = len(test_labels)\n",
    "\n",
    "cnn_accuracy = correct_predictions_cnn / total_predictions_cnn\n",
    "print(f'CNN - Accuracy: {cnn_accuracy}')\n"
   ]
  },
  {
   "cell_type": "markdown",
   "id": "c028662c",
   "metadata": {},
   "source": [
    "##El modelo ANN tiene una precisión de aproximadamente 0.9776, lo que significa que clasifica correctamente alrededor del 97.44% de las imágenes del conjunto de prueba.\n",
    "\n",
    "El modelo CNN tiene un rendimiento aún mejor, con una precisión de aproximadamente 0.991, lo que significa que clasifica correctamente alrededor del 98.98% de las imágenes del conjunto de prueba.\n",
    "\n",
    "En términos de precisión, la CNN supera claramente al modelo ANN en este caso. Esto es típico en tareas de visión por computadora, donde las CNN suelen ser más efectivas para capturar patrones espaciales en las imágenes. La capacidad de las CNN para aprender características jerárquicas y la invarianza a la translación las hace especialmente adecuadas para tareas de clasificación de imágenes.\n",
    "\n",
    "En resumen,  la precisión de la clasificación en imágenes, la CNN es la opción preferida en este caso.\n",
    "\n",
    "\n",
    "\n",
    "\n",
    "\n"
   ]
  },
  {
   "cell_type": "code",
   "execution_count": 2,
   "id": "24b5d001",
   "metadata": {},
   "outputs": [],
   "source": [
    "X_train = train_data.drop(labels = [\"label\"],axis = 1)\n",
    "Y_train = train_data[\"label\"]"
   ]
  },
  {
   "cell_type": "code",
   "execution_count": 3,
   "id": "3703141b",
   "metadata": {},
   "outputs": [
    {
     "name": "stdout",
     "output_type": "stream",
     "text": [
      "Forma de X_train: (60000, 784)\n",
      "Forma de Y_train: (60000,)\n",
      "Las cantidades de muestras en X_train y Y_train coinciden.\n"
     ]
    }
   ],
   "source": [
    "# Verificacion de las forma de datos\n",
    "print(\"Forma de X_train:\", X_train.shape)\n",
    "print(\"Forma de Y_train:\", Y_train.shape)\n",
    "\n",
    "# Asegurando de que tengan la misma cantidad de muestras\n",
    "if X_train.shape[0] != Y_train.shape[0]:\n",
    "    print(\"Las cantidades de muestras en X_train y Y_train no coinciden.\")\n",
    "else:\n",
    "    print(\"Las cantidades de muestras en X_train y Y_train coinciden.\")"
   ]
  },
  {
   "cell_type": "code",
   "execution_count": 4,
   "id": "1af7e6fa",
   "metadata": {},
   "outputs": [
    {
     "data": {
      "image/png": "[encoded data removed]",
      "text/plain": [
       "<Figure size 700x800 with 1 Axes>"
      ]
     },
     "metadata": {},
     "output_type": "display_data"
    }
   ],
   "source": [
    "plt.figure(figsize = (7,8))\n",
    "sns.countplot(Y_train.value_counts(),palette = \"icefire\")\n",
    "plt.title(\"Number of Digits\")\n",
    "plt.show()\n"
   ]
  },
  {
   "cell_type": "code",
   "execution_count": 5,
   "id": "a563a70d",
   "metadata": {},
   "outputs": [
    {
     "name": "stdout",
     "output_type": "stream",
     "text": [
      "X_train Shape : (60000, 784)\n"
     ]
    }
   ],
   "source": [
    "X_train = X_train / 255.0\n",
    "print(\"X_train Shape :\",X_train.shape)"
   ]
  },
  {
   "cell_type": "code",
   "execution_count": 6,
   "id": "ff67a721",
   "metadata": {},
   "outputs": [
    {
     "name": "stdout",
     "output_type": "stream",
     "text": [
      "X_train Shape (60000, 28, 28, 1)\n"
     ]
    }
   ],
   "source": [
    "X_train = X_train.values.reshape(-1,28,28,1)\n",
    "print(\"X_train Shape\",X_train.shape)"
   ]
  },
  {
   "cell_type": "code",
   "execution_count": 7,
   "id": "f8000680",
   "metadata": {},
   "outputs": [],
   "source": [
    "Y_train = to_categorical(Y_train,num_classes = 10)"
   ]
  },
  {
   "cell_type": "code",
   "execution_count": 8,
   "id": "b90d37f3",
   "metadata": {},
   "outputs": [
    {
     "name": "stdout",
     "output_type": "stream",
     "text": [
      "X_train Shape: (54000, 28, 28, 1)\n",
      "X_val Shape: (6000, 28, 28, 1)\n",
      "Y_train Shape: (54000, 10)\n",
      "Y_val Shape: (6000, 10)\n"
     ]
    }
   ],
   "source": [
    "from sklearn.model_selection import train_test_split\n",
    "X_train,X_val,Y_train,Y_val = train_test_split(X_train,Y_train,test_size = 0.1, random_state = 2)\n",
    "print(\"X_train Shape:\",X_train.shape)\n",
    "print(\"X_val Shape:\",X_val.shape)\n",
    "print(\"Y_train Shape:\",Y_train.shape)\n",
    "print(\"Y_val Shape:\",Y_val.shape)"
   ]
  },
  {
   "cell_type": "code",
   "execution_count": 9,
   "id": "c070ee4b",
   "metadata": {},
   "outputs": [
    {
     "data": {
      "image/png": "[encoded data removed]",
      "text/plain": [
       "<Figure size 640x480 with 1 Axes>"
      ]
     },
     "metadata": {},
     "output_type": "display_data"
    }
   ],
   "source": [
    "plt.imshow(X_train[4][:,:,0],cmap = \"gray\")\n",
    "plt.show()"
   ]
  },
  {
   "cell_type": "code",
   "execution_count": 10,
   "id": "44c71ffe",
   "metadata": {},
   "outputs": [
    {
     "data": {
      "image/png": "[encoded data removed]",
      "text/plain": [
       "<Figure size 640x480 with 1 Axes>"
      ]
     },
     "metadata": {},
     "output_type": "display_data"
    }
   ],
   "source": [
    "plt.imshow(X_train[3][:,:,0],cmap = \"gray\")\n",
    "plt.show()"
   ]
  },
  {
   "cell_type": "code",
   "execution_count": 11,
   "id": "768fdbe5",
   "metadata": {},
   "outputs": [],
   "source": [
    "model = Sequential()\n",
    "\n",
    "model.add(Conv2D(filters = 64 , kernel_size = (5,5) , padding = \"same\" , activation = \"relu\" , input_shape = (28,28,1)))\n",
    "model.add(MaxPooling2D(pool_size = (2,2)))\n",
    "model.add(Dropout(0.2))\n",
    "\n",
    "model.add(Conv2D(filters = 32 , kernel_size = (5,5) , padding = \"same\" , activation = \"relu\"))\n",
    "model.add(MaxPooling2D(pool_size = (2,2)))\n",
    "model.add(Dropout(0.2))\n",
    "model.add(Conv2D(filters = 64 , kernel_size = (5,5) , padding = \"same\" , activation = \"relu\"))\n",
    "model.add(MaxPooling2D(pool_size = (2,2)))\n",
    "model.add(Dropout(0.2))\n",
    "\n",
    "model.add(Conv2D(filters = 16 , kernel_size = (5,5) , padding = \"same\" , activation = \"relu\"))\n",
    "model.add(MaxPooling2D(pool_size = (2,2)))\n",
    "model.add(Dropout(0.2))\n",
    "\n",
    "model.add(Flatten())\n",
    "model.add(Dense(1024,activation = \"relu\"))\n",
    "model.add(Dropout(0.2))\n",
    "model.add(Dense(Y_train.shape[1],activation = \"softmax\"))\n",
    "model.compile(optimizer = \"adam\" , loss = \"categorical_crossentropy\" , metrics = [\"accuracy\"])\n"
   ]
  },
  {
   "cell_type": "code",
   "execution_count": 12,
   "id": "0035d164",
   "metadata": {},
   "outputs": [],
   "source": [
    "batch_size = 4000\n",
    "epochs = 25"
   ]
  },
  {
   "cell_type": "code",
   "execution_count": 13,
   "id": "55379c5f",
   "metadata": {},
   "outputs": [],
   "source": [
    "datagen =ImageDataGenerator(\n",
    "shear_range = 0.2,\n",
    "horizontal_flip = False,\n",
    "vertical_flip = False,\n",
    "rotation_range = 0.45,\n",
    "zoom_range = 0.3,\n",
    "zca_whitening = False) \n",
    "\n",
    "datagen.fit(X_train)"
   ]
  },
  {
   "cell_type": "code",
   "execution_count": 14,
   "id": "11a89cd4",
   "metadata": {},
   "outputs": [
    {
     "data": {
      "text/plain": [
       "(6000, 10)"
      ]
     },
     "execution_count": 14,
     "metadata": {},
     "output_type": "execute_result"
    }
   ],
   "source": [
    "Y_val.shape"
   ]
  },
  {
   "cell_type": "code",
   "execution_count": 15,
   "id": "5c418c45",
   "metadata": {},
   "outputs": [
    {
     "name": "stdout",
     "output_type": "stream",
     "text": [
      "Epoch 1/25\n",
      "14/14 [==============================] - 452s 32s/step - loss: 2.1494 - accuracy: 0.2029 - val_loss: 1.4422 - val_accuracy: 0.6543\n",
      "Epoch 2/25\n",
      "14/14 [==============================] - 495s 36s/step - loss: 1.2258 - accuracy: 0.5793 - val_loss: 0.6243 - val_accuracy: 0.8037\n",
      "Epoch 3/25\n",
      "14/14 [==============================] - 424s 30s/step - loss: 0.7304 - accuracy: 0.7500 - val_loss: 0.3676 - val_accuracy: 0.8977\n",
      "Epoch 4/25\n",
      "14/14 [==============================] - 437s 31s/step - loss: 0.5093 - accuracy: 0.8336 - val_loss: 0.2445 - val_accuracy: 0.9287\n",
      "Epoch 5/25\n",
      "14/14 [==============================] - 554s 40s/step - loss: 0.3844 - accuracy: 0.8787 - val_loss: 0.1853 - val_accuracy: 0.9452\n",
      "Epoch 6/25\n",
      "14/14 [==============================] - 512s 36s/step - loss: 0.3196 - accuracy: 0.8996 - val_loss: 0.1475 - val_accuracy: 0.9555\n",
      "Epoch 7/25\n",
      "14/14 [==============================] - 434s 31s/step - loss: 0.2736 - accuracy: 0.9144 - val_loss: 0.1251 - val_accuracy: 0.9628\n",
      "Epoch 8/25\n",
      "14/14 [==============================] - 437s 31s/step - loss: 0.2448 - accuracy: 0.9234 - val_loss: 0.1136 - val_accuracy: 0.9673\n",
      "Epoch 9/25\n",
      "14/14 [==============================] - 430s 31s/step - loss: 0.2193 - accuracy: 0.9313 - val_loss: 0.1033 - val_accuracy: 0.9683\n",
      "Epoch 10/25\n",
      "14/14 [==============================] - 535s 39s/step - loss: 0.2019 - accuracy: 0.9372 - val_loss: 0.0944 - val_accuracy: 0.9713\n",
      "Epoch 11/25\n",
      "14/14 [==============================] - 443s 32s/step - loss: 0.1852 - accuracy: 0.9449 - val_loss: 0.0862 - val_accuracy: 0.9723\n",
      "Epoch 12/25\n",
      "14/14 [==============================] - 437s 31s/step - loss: 0.1705 - accuracy: 0.9495 - val_loss: 0.0800 - val_accuracy: 0.9748\n",
      "Epoch 13/25\n",
      "14/14 [==============================] - 408s 29s/step - loss: 0.1592 - accuracy: 0.9510 - val_loss: 0.0725 - val_accuracy: 0.9768\n",
      "Epoch 14/25\n",
      "14/14 [==============================] - 647s 48s/step - loss: 0.1480 - accuracy: 0.9556 - val_loss: 0.0677 - val_accuracy: 0.9803\n",
      "Epoch 15/25\n",
      "14/14 [==============================] - 447s 32s/step - loss: 0.1409 - accuracy: 0.9576 - val_loss: 0.0653 - val_accuracy: 0.9813\n",
      "Epoch 16/25\n",
      "14/14 [==============================] - 471s 34s/step - loss: 0.1341 - accuracy: 0.9613 - val_loss: 0.0651 - val_accuracy: 0.9808\n",
      "Epoch 17/25\n",
      "14/14 [==============================] - 461s 33s/step - loss: 0.1271 - accuracy: 0.9618 - val_loss: 0.0594 - val_accuracy: 0.9827\n",
      "Epoch 18/25\n",
      "14/14 [==============================] - 522s 38s/step - loss: 0.1206 - accuracy: 0.9635 - val_loss: 0.0568 - val_accuracy: 0.9818\n",
      "Epoch 19/25\n",
      "14/14 [==============================] - 446s 32s/step - loss: 0.1132 - accuracy: 0.9658 - val_loss: 0.0547 - val_accuracy: 0.9838\n",
      "Epoch 20/25\n",
      "14/14 [==============================] - 445s 32s/step - loss: 0.1107 - accuracy: 0.9668 - val_loss: 0.0523 - val_accuracy: 0.9858\n",
      "Epoch 21/25\n",
      "14/14 [==============================] - 450s 32s/step - loss: 0.1045 - accuracy: 0.9691 - val_loss: 0.0530 - val_accuracy: 0.9847\n",
      "Epoch 22/25\n",
      "14/14 [==============================] - 435s 31s/step - loss: 0.1005 - accuracy: 0.9700 - val_loss: 0.0478 - val_accuracy: 0.9863\n",
      "Epoch 23/25\n",
      "14/14 [==============================] - 17788s 535s/step - loss: 0.0964 - accuracy: 0.9710 - val_loss: 0.0462 - val_accuracy: 0.9860\n",
      "Epoch 24/25\n",
      "14/14 [==============================] - 415s 30s/step - loss: 0.0906 - accuracy: 0.9729 - val_loss: 0.0466 - val_accuracy: 0.9860\n",
      "Epoch 25/25\n",
      "14/14 [==============================] - 448s 32s/step - loss: 0.0876 - accuracy: 0.9735 - val_loss: 0.0444 - val_accuracy: 0.9870\n"
     ]
    }
   ],
   "source": [
    "log = model.fit(X_train,Y_train,\n",
    "                validation_data = (X_val,Y_val),\n",
    "                epochs = epochs,\n",
    "                batch_size = batch_size)"
   ]
  },
  {
   "cell_type": "code",
   "execution_count": 16,
   "id": "70117147",
   "metadata": {},
   "outputs": [
    {
     "name": "stderr",
     "output_type": "stream",
     "text": [
      "No artists with labels found to put in legend.  Note that artists whose label start with an underscore are ignored when legend() is called with no argument.\n"
     ]
    },
    {
     "data": {
      "image/png": "[encoded data removed]",
      "text/plain": [
       "<Figure size 640x480 with 1 Axes>"
      ]
     },
     "metadata": {},
     "output_type": "display_data"
    }
   ],
   "source": [
    "plt.plot(log.history[\"val_loss\"],color = \"red\")\n",
    "\n",
    "\n",
    "plt.plot(log.history[\"loss\"],color = \"blue\")\n",
    "plt.title(\"Loss\")\n",
    "plt.legend()\n",
    "plt.show()"
   ]
  },
  {
   "cell_type": "code",
   "execution_count": 17,
   "id": "e5bed1d9",
   "metadata": {},
   "outputs": [
    {
     "name": "stderr",
     "output_type": "stream",
     "text": [
      "No artists with labels found to put in legend.  Note that artists whose label start with an underscore are ignored when legend() is called with no argument.\n"
     ]
    },
    {
     "data": {
      "image/png": "[encoded data removed]",
      "text/plain": [
       "<Figure size 640x480 with 1 Axes>"
      ]
     },
     "metadata": {},
     "output_type": "display_data"
    }
   ],
   "source": [
    "plt.plot(log.history[\"accuracy\"],color = \"green\")\n",
    "plt.plot(log.history[\"val_accuracy\"],color = \"orange\")\n",
    "plt.title(\"Accuracy\")\n",
    "plt.legend()\n",
    "plt.show()"
   ]
  },
  {
   "cell_type": "code",
   "execution_count": null,
   "id": "e59c4ca1",
   "metadata": {},
   "outputs": [],
   "source": [
    "\n"
   ]
  }
 ],
 "metadata": {
  "kernelspec": {
   "display_name": "Python 3 (ipykernel)",
   "language": "python",
   "name": "python3"
  },
  "language_info": {
   "codemirror_mode": {
    "name": "ipython",
    "version": 3
   },
   "file_extension": ".py",
   "mimetype": "text/x-python",
   "name": "python",
   "nbconvert_exporter": "python",
   "pygments_lexer": "ipython3",
   "version": "3.11.4"
  }
 },
 "nbformat": 4,
 "nbformat_minor": 5
}
